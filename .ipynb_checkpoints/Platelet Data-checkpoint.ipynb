{
 "cells": [
  {
   "cell_type": "code",
   "execution_count": 481,
   "metadata": {},
   "outputs": [],
   "source": [
    "import pandas as pd\n",
    "import os\n",
    "import numpy as np\n",
    "import matplotlib.pyplot as plt\n",
    "import seaborn as sns"
   ]
  },
  {
   "cell_type": "code",
   "execution_count": 456,
   "metadata": {},
   "outputs": [],
   "source": [
    "data_dir = r\"C:\\Users\\Adam\\Data\\Lisa\\platelets\\Platelet data 2018-05-12\""
   ]
  },
  {
   "cell_type": "code",
   "execution_count": 457,
   "metadata": {},
   "outputs": [],
   "source": [
    "def find_files( data_dir, pattern ):\n",
    "    \n",
    "    results = []\n",
    "    \n",
    "    for root, dirs, files in os.walk(data_dir):\n",
    "        for file in files: # loops through directories and files\n",
    "            if pattern in file: # compares to your specified conditions\n",
    "                results.append( os.path.join(root,file))\n",
    "    return results\n",
    "\n",
    "def csv_list_to_dataframe( csv_list ):\n",
    "    df_list = []\n",
    "    for file in csv_list:\n",
    "        df =  pd.read_csv(file)\n",
    "        \n",
    "        df['Source'] = file\n",
    "        \n",
    "        df.columns = [c.lstrip('0123456789_').strip('_') for c in df.columns]\n",
    "        \n",
    "        for c in df.columns:\n",
    "            if '.1' in c:\n",
    "                print(file)\n",
    "                print(c)\n",
    "            if c[-1] =='_':\n",
    "                print(file)\n",
    "                print(c)\n",
    "        \n",
    "        df_list.append( df )\n",
    "    return pd.concat( df_list )\n",
    "        "
   ]
  },
  {
   "cell_type": "code",
   "execution_count": 458,
   "metadata": {},
   "outputs": [],
   "source": [
    "file_list = find_files(data_dir, '.csv')\n",
    "\n",
    "df = csv_list_to_dataframe( file_list )\n",
    "\n",
    "df['Replicate Number'] = df['Source'].str.extract(r\"Rep ([0-9])\", expand = False).astype(int)\n",
    "df['Fraction'] = df['Source'].str.extract(r\"(supe|pellet)\", expand = False)\n",
    "df['Mode'] = df['Source'].str.extract(r\"(pos|neg)\", expand = False)\n",
    "df['Treatment'] = df['Source'].str.extract(r\"(activated|blank|hsd1|hsd2)\", expand = False)"
   ]
  },
  {
   "cell_type": "code",
   "execution_count": 459,
   "metadata": {},
   "outputs": [],
   "source": [
    "df = df[ [c for c in df.columns if ( ('dil' not in c) & ('repeat' not in c) & ('NEW' not in c) )]]"
   ]
  },
  {
   "cell_type": "code",
   "execution_count": 460,
   "metadata": {},
   "outputs": [
    {
     "name": "stdout",
     "output_type": "stream",
     "text": [
      ".05.2018 19:49\n",
      "DESKTOP-AG4GG5R/Adam\n",
      "Source\n",
      "Unnamed: 0\n",
      "Unnamed: 2\n",
      "activated_pellet_a_neg\n",
      "activated_pellet_a_pos\n",
      "activated_pellet_b_neg\n",
      "activated_pellet_b_pos\n",
      "activated_supe_a_neg\n",
      "activated_supe_a_pos\n",
      "activated_supe_b_neg\n",
      "activated_supe_b_pos\n",
      "blank_mid_a_neg\n",
      "blank_mid_a_pos\n",
      "blank_mid_b_neg\n",
      "blank_mid_b_pos\n",
      "blank_post_a_neg\n",
      "blank_post_a_pos\n",
      "blank_post_b_neg\n",
      "blank_post_b_pos\n",
      "blank_pre_a_neg\n",
      "blank_pre_a_pos\n",
      "blank_pre_b_neg\n",
      "blank_pre_b_pos\n",
      "blank_pre_c_neg\n",
      "blank_pre_c_pos\n",
      "buffer_pellet_a_neg\n",
      "buffer_pellet_a_pos\n",
      "buffer_pellet_b_neg\n",
      "buffer_pellet_b_pos\n",
      "buffer_supe_a_neg\n",
      "buffer_supe_a_pos\n",
      "buffer_supe_b_neg\n",
      "buffer_supe_b_pos\n",
      "compound\n",
      "compoundId\n",
      "expectedRtDiff\n",
      "file:///C:/Users/Adam/AppData/Roaming/LibreOffice/4;\n",
      "goodPeakCount\n",
      "groupId\n",
      "hsd1_pellet_a_neg\n",
      "hsd1_pellet_a_pos\n",
      "hsd1_pellet_b_neg\n",
      "hsd1_pellet_b_pos\n",
      "hsd1_supe_a_neg\n",
      "hsd1_supe_a_pos\n",
      "hsd1_supe_b_neg\n",
      "hsd1_supe_b_pos\n",
      "hsd2_pellet_a_neg\n",
      "hsd2_pellet_a_pos\n",
      "hsd2_pellet_b_neg\n",
      "hsd2_pellet_b_pos\n",
      "hsd2_supe_a_neg\n",
      "hsd2_supe_a_pos\n",
      "hsd2_supe_b_neg\n",
      "hsd2_supe_b_pos\n",
      "label\n",
      "maxQuality\n",
      "medMz\n",
      "medRt\n",
      "metaGroupId\n",
      "non_pellet_a_neg\n",
      "non_pellet_a_pos\n",
      "non_pellet_b_neg\n",
      "non_pellet_b_pos\n",
      "non_supe_a_neg\n",
      "non_supe_a_pos\n",
      "non_supe_b_neg\n",
      "non_supe_b_pos\n",
      "note\n",
      "parent\n",
      "ppmDiff\n",
      "Replicate Number\n",
      "Fraction\n",
      "Mode\n",
      "Treatment\n"
     ]
    }
   ],
   "source": [
    "for c in df.columns:\n",
    "    print(c)"
   ]
  },
  {
   "cell_type": "code",
   "execution_count": 461,
   "metadata": {},
   "outputs": [
    {
     "data": {
      "text/plain": [
       "supe      550\n",
       "pellet    474\n",
       "Name: Fraction, dtype: int64"
      ]
     },
     "execution_count": 461,
     "metadata": {},
     "output_type": "execute_result"
    }
   ],
   "source": [
    "df.Fraction.value_counts()"
   ]
  },
  {
   "cell_type": "code",
   "execution_count": 462,
   "metadata": {},
   "outputs": [
    {
     "data": {
      "text/plain": [
       "PC(40:7)                                  9\n",
       "PC(38:6)                                  9\n",
       "PC(40:6)                                  9\n",
       "PC(38:5)                                  7\n",
       "PS(38:4)                                  7\n",
       "PE(36:2)                                  7\n",
       "PE(36:4)                                  7\n",
       "PE(36:1)                                  7\n",
       "PI(38:4)                                  7\n",
       "PC(32:0)                                  6\n",
       "TG_NH4(56:2)                              6\n",
       "PC(40:8)                                  6\n",
       "SM (d18:1/24:0)                           6\n",
       "SM(d18:1/24:1)                            6\n",
       "PE(40:4)                                  6\n",
       "PC(38:4)                                  6\n",
       "Sphingosine-dihydro(d18:0)(Safingol)      6\n",
       "LPE(20:4)                                 6\n",
       "PE(36:3)                                  6\n",
       "SM(d18:1/16:0)                            5\n",
       "TG_NH4(56:5)                              5\n",
       "TG_NH4(56:7)                              5\n",
       "SM(d18:1/18:0)                            5\n",
       "TG_NH4(56:6)                              5\n",
       "PS(36:1)                                  5\n",
       "PE(40:6)                                  5\n",
       "PC(36:4)                                  5\n",
       "PE(34:1)                                  5\n",
       "PE(34:0)                                  5\n",
       "TG_NH4(56:1)                              5\n",
       "                                         ..\n",
       "PE(42:6)                                  1\n",
       "TG_Na(50:5)                               1\n",
       "TG_NH4(44:2)                              1\n",
       "DG_Na(30:0)                               1\n",
       "PC(40:0)                                  1\n",
       "TG_NH4(62:3)                              1\n",
       "PC(44:4)                                  1\n",
       "TG_NH4(66:3)                              1\n",
       "LPA(22:5)                                 1\n",
       "PE(40:7)                                  1\n",
       "PC(40:1)                                  1\n",
       "PA(50:1)                                  1\n",
       "DG_NH4(36:2)                              1\n",
       "PS(38:1)                                  1\n",
       "TG_NH4(52:0)                              1\n",
       "LPS(24:3)                                 1\n",
       "PC(40:3)                                  1\n",
       "PC(42:6)                                  1\n",
       "PC(30:0)                                  1\n",
       "PS(54:4)                                  1\n",
       "CE_Na(26:12)                              1\n",
       "DG_NH4(36:4)                              1\n",
       "Galactosyl Dimethyl Sphingosine(d18:1)    1\n",
       "PC(38:0)                                  1\n",
       "PE(56:5)                                  1\n",
       "TG_Na(60:1)                               1\n",
       "SM(d18:1/18:1)                            1\n",
       "TG_NH4(66:1)                              1\n",
       "TG_NH4(46:3)                              1\n",
       "TG_NH4(68:2)                              1\n",
       "Name: compound, Length: 470, dtype: int64"
      ]
     },
     "execution_count": 462,
     "metadata": {},
     "output_type": "execute_result"
    }
   ],
   "source": [
    "df['compound'].value_counts()"
   ]
  },
  {
   "cell_type": "code",
   "execution_count": 463,
   "metadata": {},
   "outputs": [
    {
     "data": {
      "text/plain": [
       "1    250\n",
       "2    154\n",
       "3     66\n",
       "dtype: int64"
      ]
     },
     "execution_count": 463,
     "metadata": {},
     "output_type": "execute_result"
    }
   ],
   "source": [
    "df.groupby(['compound']).apply(lambda x: len(x['Replicate Number'].unique())).value_counts()"
   ]
  },
  {
   "cell_type": "markdown",
   "metadata": {},
   "source": [
    "above - a quick check to see how many compounds show up in at least 1 sample in each replicate"
   ]
  },
  {
   "cell_type": "code",
   "execution_count": 483,
   "metadata": {},
   "outputs": [
    {
     "name": "stdout",
     "output_type": "stream",
     "text": [
      "PC(32:0)\n",
      "PC(38:2)\n",
      "PC(38:4)\n",
      "PC(38:5)\n",
      "PC(38:6)\n",
      "PC(40:6)\n",
      "PC(40:7)\n",
      "PC(40:8)\n"
     ]
    }
   ],
   "source": [
    "for lbl, grp in df[(df['Mode'] == 'pos')&(df['Fraction']=='supe')].set_index('Replicate Number').groupby(['compound']):\n",
    "    \n",
    "    if grp.shape[0] < 3:\n",
    "        continue\n",
    "        \n",
    "    data = grp[ [c for c in grp.columns[1:-7] if '_' in c] ].T.copy()\n",
    "\n",
    "    data = data.reset_index()\n",
    "    \n",
    "    \n",
    "    data['Fraction'] = data['index'].str.extract(r\"(supe|pellet|blank)\", expand = False)\n",
    "    data['Mode'] = data['index'].str.extract(r\"(pos|neg)\", expand = False)\n",
    "    data['Treatment'] = data['index'].str.extract(r\"(activated|blank|hsd1|hsd2|non|buffer)\", expand = False)\n",
    "    \n",
    "    if lbl == 'PE(36:3)':\n",
    "        break\n",
    "    print(lbl)"
   ]
  },
  {
   "cell_type": "code",
   "execution_count": 484,
   "metadata": {},
   "outputs": [
    {
     "data": {
      "image/png": "[encoded data removed]",
      "text/plain": [
       "<matplotlib.figure.Figure at 0x1950ad88b70>"
      ]
     },
     "metadata": {},
     "output_type": "display_data"
    }
   ],
   "source": [
    "q = data[ (data['Fraction'] == 'supe') & (data['Mode'] == 'pos') ]\n",
    "q = q.melt(id_vars = 'Treatment', value_vars = q.columns[1:-3])\n",
    "sns.stripplot( data = q, x = 'Treatment', y = 'value')\n",
    "plt.show()"
   ]
  },
  {
   "cell_type": "code",
   "execution_count": null,
   "metadata": {},
   "outputs": [],
   "source": []
  }
 ],
 "metadata": {
  "kernelspec": {
   "display_name": "Python 3",
   "language": "python",
   "name": "python3"
  },
  "language_info": {
   "codemirror_mode": {
    "name": "ipython",
    "version": 3
   },
   "file_extension": ".py",
   "mimetype": "text/x-python",
   "name": "python",
   "nbconvert_exporter": "python",
   "pygments_lexer": "ipython3",
   "version": "3.6.3"
  }
 },
 "nbformat": 4,
 "nbformat_minor": 2
}
